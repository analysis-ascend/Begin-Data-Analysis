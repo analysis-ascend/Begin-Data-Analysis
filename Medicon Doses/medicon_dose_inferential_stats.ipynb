{
 "cells": [
  {
   "cell_type": "markdown",
   "metadata": {},
   "source": [
    "# <font color=#008000> Medicon Case Study - Inferential Statistics</f>"
   ]
  },
  {
   "cell_type": "markdown",
   "metadata": {},
   "source": [
    "### Background\n",
    "Pharmaceutical company Medicon has manufactured the sixth batch (40,000 units) of COVID-19 vaccine doses. This vaccine was clinically tested last quarter and around 2,00,000 doses of this vaccine have already been given to the people, in five batches. Now, this sixth batch of doses needs to be tested for their time of effect (which is measured as the time taken for the dose to completely cure COVID), as well as for quality assurance (which tells you whether the dose will be able to do a satisfactory job or not). [Please note that this is not a clinical trial, the vaccine has already cleared clinical trials. This batch test is to ensure the quality and effectiveness of the sixth batch] The company wants to plan for the next batch of doses. Let's understand the quality of this(sixth) batch. You are working with the quality assurance team of Medicon and want to understand the quality of the sixth batch.\n",
    "\n",
    "Note: Here, satisfactory job means that the dose is able to completely cure covid and it does not have any side effects."
   ]
  },
  {
   "cell_type": "markdown",
   "metadata": {},
   "source": [
    "## Problem Statement\n",
    "From the previous analysis, it is found that a dose is 2 times more likely to produce a satisfactory result than not.\n",
    "\n",
    "<font color=#228B22>1) The quality assurance team has collected 10 volunteers who were ready for the trial of this new batch and given one dose to each volunteer. Help the team to answer the following questions</f>\n",
    "\n",
    "a) Plot the probability distribution for the number of unsatisfactory doses.\n",
    "\n",
    "b) Find the probability that exactly 3 doses will not be able to do a satisfactory job.\n",
    "\n",
    "c) Find the probability that at most 3 doses will not do the satisfactory job out of 10 selected.\n",
    "\n",
    "<font color=#228B22>2) The New York city administration wants to buy 20 Doses for Health care workers who were COVID-Positive. They have contacted the company and requested 20 Doses. What is the probability that at least 11 doses will not do a satisfactory job out of 20 doses?</f>\n",
    "\n",
    "<font color=#228B22>3) Quality assurance team wants to analyze the time of effect for doses. So, they have collected the 50 volunteers with the help of the city administration and given one dose to each volunteer. Data of these 50 doses are in the 'doses.csv' file. Based on this sample, answer the following questions:</f>\n",
    "\n",
    "a) What is the probability that a dose will take less than 11.5 hours?\n",
    "\n",
    "b) What is the 90th percentile of time of effect for the doses?\n",
    "\n",
    "c) For the effectiveness test of the vaccine. Estimate the range in which the population mean (effective time) will lie with a 95% confidence level."
   ]
  },
  {
   "cell_type": "code",
   "execution_count": null,
   "metadata": {},
   "outputs": [],
   "source": []
  }
 ],
 "metadata": {
  "kernelspec": {
   "display_name": "Python 3",
   "language": "python",
   "name": "python3"
  },
  "language_info": {
   "codemirror_mode": {
    "name": "ipython",
    "version": 3
   },
   "file_extension": ".py",
   "mimetype": "text/x-python",
   "name": "python",
   "nbconvert_exporter": "python",
   "pygments_lexer": "ipython3",
   "version": "3.8.5"
  }
 },
 "nbformat": 4,
 "nbformat_minor": 4
}
